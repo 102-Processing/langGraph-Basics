{
 "cells": [
  {
   "cell_type": "markdown",
   "id": "8a11f22d",
   "metadata": {},
   "source": [
    "# AI AGENT"
   ]
  },
  {
   "cell_type": "markdown",
   "id": "b7943890",
   "metadata": {},
   "source": [
    "-  AIMessage, HumanMessage => Data types in LangChain"
   ]
  },
  {
   "cell_type": "code",
   "execution_count": 12,
   "id": "f4f38d8a",
   "metadata": {},
   "outputs": [
    {
     "data": {
      "text/plain": [
       "True"
      ]
     },
     "execution_count": 12,
     "metadata": {},
     "output_type": "execute_result"
    }
   ],
   "source": [
    "from langchain_core.messages import AIMessage, HumanMessage\n",
    "from langchain_groq import ChatGroq\n",
    "\n",
    "from langgraph.graph import StateGraph\n",
    "\n",
    "from typing import TypedDict, List, Union\n",
    "from dotenv import load_dotenv\n",
    "import os\n",
    "\n",
    "load_dotenv()"
   ]
  },
  {
   "cell_type": "code",
   "execution_count": 4,
   "id": "f35adba9",
   "metadata": {},
   "outputs": [],
   "source": [
    "class AgentState(TypedDict):\n",
    "    messages: List[Union[AIMessage, HumanMessage]]"
   ]
  },
  {
   "cell_type": "code",
   "execution_count": 10,
   "id": "efe9c09d",
   "metadata": {},
   "outputs": [],
   "source": [
    "llm = ChatGroq(model=\"deepseek-r1-distill-llama-70b\", api_key=os.getenv('GROQ_API_KEY'))"
   ]
  },
  {
   "cell_type": "code",
   "execution_count": null,
   "id": "6e47deb4",
   "metadata": {},
   "outputs": [],
   "source": [
    "def process(state: AgentState) -> AgentState:\n",
    "    '''This node will solve the request you input'''\n",
    "    response = llm.invoke(state['messages'])\n",
    "\n",
    "    state['messages'].append(AIMessage(content=response.content))\n",
    "\n",
    "    print(f\"\\nAI: {response.content}\")\n",
    "    #print(\"CURRENT STATE: \", state[\"messages\"])\n",
    "\n",
    "    return state"
   ]
  },
  {
   "cell_type": "code",
   "execution_count": 16,
   "id": "13205764",
   "metadata": {},
   "outputs": [],
   "source": [
    "graph = StateGraph(AgentState)\n",
    "\n",
    "graph.add_node('llm', process)\n",
    "graph.set_entry_point('llm')\n",
    "graph.set_finish_point('llm')\n",
    "\n",
    "app = graph.compile()"
   ]
  },
  {
   "cell_type": "code",
   "execution_count": 18,
   "id": "3a0ca241",
   "metadata": {},
   "outputs": [
    {
     "name": "stdout",
     "output_type": "stream",
     "text": [
      "INPUT: [HumanMessage(content='Hi', additional_kwargs={}, response_metadata={})]\n",
      "\n",
      "AI: <think>\n",
      "\n",
      "</think>\n",
      "\n",
      "Hello! How can I assist you today? 😊\n",
      "CURRENT STATE:  [HumanMessage(content='Hi', additional_kwargs={}, response_metadata={}), AIMessage(content='<think>\\n\\n</think>\\n\\nHello! How can I assist you today? 😊', additional_kwargs={}, response_metadata={})]\n",
      "INPUT: [HumanMessage(content='Hi', additional_kwargs={}, response_metadata={}), AIMessage(content='<think>\\n\\n</think>\\n\\nHello! How can I assist you today? 😊', additional_kwargs={}, response_metadata={}), HumanMessage(content='I am El', additional_kwargs={}, response_metadata={})]\n",
      "\n",
      "AI: <think>\n",
      "Alright, the user just said, \"I am El.\" That's pretty short. I should respond in a friendly and open manner. Maybe ask them how they're doing or if there's something specific they want to talk about. Keeping it simple and inviting should encourage them to share more.\n",
      "</think>\n",
      "\n",
      "Hello, El! How are you doing today? Is there something specific you'd like to talk about or ask?\n",
      "CURRENT STATE:  [HumanMessage(content='Hi', additional_kwargs={}, response_metadata={}), AIMessage(content='<think>\\n\\n</think>\\n\\nHello! How can I assist you today? 😊', additional_kwargs={}, response_metadata={}), HumanMessage(content='I am El', additional_kwargs={}, response_metadata={}), AIMessage(content='<think>\\nAlright, the user just said, \"I am El.\" That\\'s pretty short. I should respond in a friendly and open manner. Maybe ask them how they\\'re doing or if there\\'s something specific they want to talk about. Keeping it simple and inviting should encourage them to share more.\\n</think>\\n\\nHello, El! How are you doing today? Is there something specific you\\'d like to talk about or ask?', additional_kwargs={}, response_metadata={})]\n"
     ]
    }
   ],
   "source": [
    "user_input = input('Enter: ')\n",
    "conversation_memory = []\n",
    "\n",
    "while user_input != 'exit':\n",
    "    conversation_memory.append(HumanMessage(content=user_input))\n",
    "\n",
    "    print('INPUT:', conversation_memory)\n",
    "\n",
    "    result = app.invoke({'messages': conversation_memory})\n",
    "\n",
    "    conversation_memory = result['messages']\n",
    "\n",
    "    user_input = input('Enter: ')"
   ]
  },
  {
   "cell_type": "code",
   "execution_count": 15,
   "id": "761ae9c5",
   "metadata": {},
   "outputs": [
    {
     "data": {
      "image/jpeg": "[encoded data removed]",
      "text/plain": [
       "<IPython.core.display.Image object>"
      ]
     },
     "metadata": {},
     "output_type": "display_data"
    }
   ],
   "source": [
    "from IPython.display import Image, display\n",
    "\n",
    "display(Image(app.get_graph().draw_mermaid_png()))"
   ]
  },
  {
   "cell_type": "code",
   "execution_count": null,
   "id": "872b719f",
   "metadata": {},
   "outputs": [],
   "source": []
  }
 ],
 "metadata": {
  "kernelspec": {
   "display_name": "langGraphVenv",
   "language": "python",
   "name": "python3"
  },
  "language_info": {
   "codemirror_mode": {
    "name": "ipython",
    "version": 3
   },
   "file_extension": ".py",
   "mimetype": "text/x-python",
   "name": "python",
   "nbconvert_exporter": "python",
   "pygments_lexer": "ipython3",
   "version": "3.10.10"
  }
 },
 "nbformat": 4,
 "nbformat_minor": 5
}
