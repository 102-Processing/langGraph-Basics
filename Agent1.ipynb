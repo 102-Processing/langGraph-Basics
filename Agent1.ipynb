{
 "cells": [
  {
   "cell_type": "markdown",
   "id": "0a9897d0",
   "metadata": {},
   "source": [
    "* Basics of LangGraph\n",
    "* This notebook demonstrates Non-AI agents (i.e:- just using and knowing the syntax of langgraph)"
   ]
  },
  {
   "cell_type": "code",
   "execution_count": 3,
   "id": "c0a88b7a",
   "metadata": {},
   "outputs": [],
   "source": [
    "from langgraph.graph import StateGraph, START, END\n",
    "from typing import Dict, List, TypedDict"
   ]
  },
  {
   "cell_type": "markdown",
   "id": "b9733a22",
   "metadata": {},
   "source": [
    "We are defining our state schema.\n",
    "Generally it is named as **AgentState**."
   ]
  },
  {
   "cell_type": "code",
   "execution_count": 4,
   "id": "18ee65c9",
   "metadata": {},
   "outputs": [],
   "source": [
    "class AgentState(TypedDict):\n",
    "    name: str\n",
    "    number: List[int]\n",
    "    op: str\n",
    "    sum: int\n",
    "    sub: int"
   ]
  },
  {
   "cell_type": "code",
   "execution_count": 5,
   "id": "f2a7de49",
   "metadata": {},
   "outputs": [],
   "source": [
    "def greeting_node(state: AgentState) -> AgentState:\n",
    "    '''Greeting node which says hi to the person.'''\n",
    "\n",
    "    state['name'] = f'Hello, {state[\"name\"]}'\n",
    "\n",
    "    return state"
   ]
  },
  {
   "cell_type": "code",
   "execution_count": 6,
   "id": "0dd67895",
   "metadata": {},
   "outputs": [],
   "source": [
    "def addition_node(state: AgentState) -> AgentState:\n",
    "    '''Addition node which performs addition of two numbers'''\n",
    "\n",
    "    state['sum'] = sum(state['number'])\n",
    "\n",
    "    return state"
   ]
  },
  {
   "cell_type": "code",
   "execution_count": 7,
   "id": "c7f09dab",
   "metadata": {},
   "outputs": [],
   "source": [
    "def subtraction_node(state: AgentState) -> AgentState:\n",
    "    '''Addition node which performs addition of two numbers'''\n",
    "\n",
    "    state['sub'] = -sum(state['number'])\n",
    "\n",
    "    return state"
   ]
  },
  {
   "cell_type": "code",
   "execution_count": 8,
   "id": "f0f5b7de",
   "metadata": {},
   "outputs": [],
   "source": [
    "def op_determine_node(state: AgentState) -> AgentState:\n",
    "    '''Determines the operation to be performed based on AgentState\"s \"op\" value'''\n",
    "    return 'add' if state['op'] == '+' else 'sub'"
   ]
  },
  {
   "cell_type": "code",
   "execution_count": 10,
   "id": "8776158a",
   "metadata": {},
   "outputs": [
    {
     "data": {
      "text/plain": [
       "<langgraph.graph.state.StateGraph at 0x211bb605270>"
      ]
     },
     "execution_count": 10,
     "metadata": {},
     "output_type": "execute_result"
    }
   ],
   "source": [
    "graph = StateGraph(AgentState)\n",
    "\n",
    "graph.add_node('greeting', greeting_node)\n",
    "graph.add_node('addition', addition_node)\n",
    "graph.add_node('subtraction', subtraction_node)\n",
    "\n",
    "# can use any one of the following\n",
    "# graph.add_edge(START, 'greeting')\n",
    "graph.set_entry_point('greeting')\n",
    "\n",
    "graph.add_conditional_edges(\n",
    "    'greeting',\n",
    "    op_determine_node,\n",
    "    {\n",
    "        'add': 'addition',\n",
    "        'sub': 'subtraction'\n",
    "    }\n",
    ")\n",
    "\n",
    "graph.set_finish_point('addition')\n",
    "graph.set_finish_point('subtraction')\n"
   ]
  },
  {
   "cell_type": "code",
   "execution_count": 13,
   "id": "154e1c51",
   "metadata": {},
   "outputs": [
    {
     "data": {
      "text/plain": [
       "{'name': 'Hello, steve', 'number': [1, 2, 3, 4, 5], 'op': '+', 'sum': 15}"
      ]
     },
     "execution_count": 13,
     "metadata": {},
     "output_type": "execute_result"
    }
   ],
   "source": [
    "app = graph.compile()\n",
    "\n",
    "app.invoke({'name': 'steve', 'number': [1, 2, 3, 4, 5], 'op': '+'})"
   ]
  },
  {
   "cell_type": "code",
   "execution_count": 14,
   "id": "a198a638",
   "metadata": {},
   "outputs": [
    {
     "data": {
      "image/png": "[encoded data removed]",
      "text/plain": [
       "<IPython.core.display.Image object>"
      ]
     },
     "metadata": {},
     "output_type": "display_data"
    }
   ],
   "source": [
    "from IPython.display import Image, display\n",
    "\n",
    "display(Image(app.get_graph().draw_mermaid_png()))"
   ]
  },
  {
   "cell_type": "code",
   "execution_count": null,
   "id": "2a055a53",
   "metadata": {},
   "outputs": [],
   "source": []
  }
 ],
 "metadata": {
  "kernelspec": {
   "display_name": "langGraphVenv",
   "language": "python",
   "name": "python3"
  },
  "language_info": {
   "codemirror_mode": {
    "name": "ipython",
    "version": 3
   },
   "file_extension": ".py",
   "mimetype": "text/x-python",
   "name": "python",
   "nbconvert_exporter": "python",
   "pygments_lexer": "ipython3",
   "version": "3.10.10"
  }
 },
 "nbformat": 4,
 "nbformat_minor": 5
}
