{
 "cells": [
  {
   "cell_type": "markdown",
   "id": "0a9897d0",
   "metadata": {},
   "source": [
    "* Basics of LangGraph\n",
    "* This notebook demonstrates Non-AI agents (i.e:- just using and knowing the syntax of langgraph)"
   ]
  },
  {
   "cell_type": "code",
   "execution_count": 43,
   "id": "c0a88b7a",
   "metadata": {},
   "outputs": [],
   "source": [
    "from langgraph.graph import StateGraph, START, END\n",
    "from typing import Dict, List, TypedDict"
   ]
  },
  {
   "cell_type": "markdown",
   "id": "b9733a22",
   "metadata": {},
   "source": [
    "We are defining our state schema.\n",
    "Generally it is named as **AgentState**."
   ]
  },
  {
   "cell_type": "code",
   "execution_count": 44,
   "id": "18ee65c9",
   "metadata": {},
   "outputs": [],
   "source": [
    "class AgentState(TypedDict):\n",
    "    name: str\n",
    "    number: List[int]\n",
    "    op: str\n",
    "    sum: int\n",
    "    sub: int\n",
    "    counter: int"
   ]
  },
  {
   "cell_type": "code",
   "execution_count": 45,
   "id": "f2a7de49",
   "metadata": {},
   "outputs": [],
   "source": [
    "def greeting_node(state: AgentState) -> AgentState:\n",
    "    '''Greeting node which says hi to the person.'''\n",
    "\n",
    "    state['name'] = f'Hello, {state[\"name\"]}'\n",
    "\n",
    "    return state"
   ]
  },
  {
   "cell_type": "code",
   "execution_count": 46,
   "id": "0dd67895",
   "metadata": {},
   "outputs": [],
   "source": [
    "def addition_node(state: AgentState) -> AgentState:\n",
    "    '''Addition node which performs addition of two numbers'''\n",
    "\n",
    "    state['sum'] = sum(state['number'])\n",
    "    state['counter'] += 1\n",
    "\n",
    "    return state"
   ]
  },
  {
   "cell_type": "code",
   "execution_count": 47,
   "id": "c7f09dab",
   "metadata": {},
   "outputs": [],
   "source": [
    "def subtraction_node(state: AgentState) -> AgentState:\n",
    "    '''Addition node which performs addition of two numbers'''\n",
    "\n",
    "    state['sub'] = -sum(state['number'])\n",
    "    state['counter'] += 1\n",
    "\n",
    "    return state"
   ]
  },
  {
   "cell_type": "code",
   "execution_count": 48,
   "id": "f0f5b7de",
   "metadata": {},
   "outputs": [],
   "source": [
    "def op_determine(state: AgentState) -> str:\n",
    "    '''Determines the operation to be performed based on AgentState\"s \"op\" value'''\n",
    "    return 'add' if state['op'] == '+' else 'sub'"
   ]
  },
  {
   "cell_type": "markdown",
   "id": "57cdccbe",
   "metadata": {},
   "source": [
    "A loop in LangGraph is just a node whose conditional edge points back to itself (or to an earlier node)."
   ]
  },
  {
   "cell_type": "code",
   "execution_count": 49,
   "id": "99490775",
   "metadata": {},
   "outputs": [],
   "source": [
    "def loop_determine(state: AgentState) -> str:\n",
    "    '''Function to decide what to do next'''\n",
    "    return 'exit' if state['counter'] >= 5 else 'greeting'"
   ]
  },
  {
   "cell_type": "code",
   "execution_count": 55,
   "id": "8776158a",
   "metadata": {},
   "outputs": [],
   "source": [
    "graph = StateGraph(AgentState)\n",
    "\n",
    "graph.add_node('greeting', greeting_node)\n",
    "graph.add_node('addition', addition_node)\n",
    "graph.add_node('subtraction', subtraction_node)\n",
    "\n",
    "# can use any one of the following\n",
    "# graph.add_edge(START, 'greeting')\n",
    "graph.set_entry_point('greeting')\n",
    "\n",
    "graph.add_conditional_edges(\n",
    "    'greeting',\n",
    "    op_determine,\n",
    "    {\n",
    "        'add': 'addition',\n",
    "        'sub': 'subtraction'\n",
    "    }\n",
    ")\n",
    "\n",
    "# graph.add_conditional_edges(\n",
    "#     'addition',\n",
    "#     loop_determine,\n",
    "#     {\n",
    "#         'exit': END,\n",
    "#         'greeting': 'greeting'\n",
    "#     }\n",
    "# )\n",
    "\n",
    "# graph.add_conditional_edges(\n",
    "#     'subtraction',\n",
    "#     loop_determine,\n",
    "#     {\n",
    "#         'exit': END,\n",
    "#         'greeting': 'greeting'\n",
    "#     }\n",
    "# )\n",
    "\n",
    "for node in ['addition', 'subtraction']:\n",
    "    graph.add_conditional_edges(\n",
    "        node,\n",
    "        loop_determine,\n",
    "        {\n",
    "            'exit': END,\n",
    "            'greeting': 'greeting'\n",
    "        }\n",
    "    )\n"
   ]
  },
  {
   "cell_type": "code",
   "execution_count": 56,
   "id": "154e1c51",
   "metadata": {},
   "outputs": [
    {
     "data": {
      "text/plain": [
       "{'name': 'Hello, Hello, Hello, Hello, Hello, steve',\n",
       " 'number': [1, 2, 3, 4, 5],\n",
       " 'op': '+',\n",
       " 'sum': 15,\n",
       " 'counter': 5}"
      ]
     },
     "execution_count": 56,
     "metadata": {},
     "output_type": "execute_result"
    }
   ],
   "source": [
    "app = graph.compile()\n",
    "\n",
    "app.invoke({'name': 'steve', 'number': [1, 2, 3, 4, 5], 'op': '+', 'counter': 0})"
   ]
  },
  {
   "cell_type": "code",
   "execution_count": 57,
   "id": "a198a638",
   "metadata": {},
   "outputs": [
    {
     "data": {
      "image/png": "[encoded data removed]",
      "text/plain": [
       "<IPython.core.display.Image object>"
      ]
     },
     "metadata": {},
     "output_type": "display_data"
    }
   ],
   "source": [
    "from IPython.display import Image, display\n",
    "\n",
    "display(Image(app.get_graph().draw_mermaid_png()))"
   ]
  }
 ],
 "metadata": {
  "kernelspec": {
   "display_name": "langGraphVenv",
   "language": "python",
   "name": "python3"
  },
  "language_info": {
   "codemirror_mode": {
    "name": "ipython",
    "version": 3
   },
   "file_extension": ".py",
   "mimetype": "text/x-python",
   "name": "python",
   "nbconvert_exporter": "python",
   "pygments_lexer": "ipython3",
   "version": "3.10.10"
  }
 },
 "nbformat": 4,
 "nbformat_minor": 5
}
